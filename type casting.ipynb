{
 "cells": [
  {
   "cell_type": "code",
   "execution_count": 1,
   "id": "149fe36d-b739-4e81-a032-5ecb8d4b4a2e",
   "metadata": {},
   "outputs": [
    {
     "data": {
      "text/plain": [
       "'3.12.7 | packaged by Anaconda, Inc. | (main, Oct  4 2024, 13:17:27) [MSC v.1929 64 bit (AMD64)]'"
      ]
     },
     "execution_count": 1,
     "metadata": {},
     "output_type": "execute_result"
    }
   ],
   "source": [
    "import sys\n",
    "sys.version"
   ]
  },
  {
   "cell_type": "code",
   "execution_count": 2,
   "id": "368a462f-c59d-40f3-afe9-12f3dd218a91",
   "metadata": {},
   "outputs": [
    {
     "data": {
      "text/plain": [
       "int"
      ]
     },
     "execution_count": 2,
     "metadata": {},
     "output_type": "execute_result"
    }
   ],
   "source": [
    "v = 5\n",
    "type(v)"
   ]
  },
  {
   "cell_type": "code",
   "execution_count": 5,
   "id": "ce64c1e9-47a4-45e7-8317-87a85532d467",
   "metadata": {},
   "outputs": [
    {
     "data": {
      "text/plain": [
       "' my'"
      ]
     },
     "execution_count": 5,
     "metadata": {},
     "output_type": "execute_result"
    }
   ],
   "source": [
    "v1 = ' my'\n",
    "v1"
   ]
  },
  {
   "cell_type": "code",
   "execution_count": 6,
   "id": "2d511896-6128-4872-9bed-a8cbafde9c8d",
   "metadata": {},
   "outputs": [
    {
     "data": {
      "text/plain": [
       "['False',\n",
       " 'None',\n",
       " 'True',\n",
       " 'and',\n",
       " 'as',\n",
       " 'assert',\n",
       " 'async',\n",
       " 'await',\n",
       " 'break',\n",
       " 'class',\n",
       " 'continue',\n",
       " 'def',\n",
       " 'del',\n",
       " 'elif',\n",
       " 'else',\n",
       " 'except',\n",
       " 'finally',\n",
       " 'for',\n",
       " 'from',\n",
       " 'global',\n",
       " 'if',\n",
       " 'import',\n",
       " 'in',\n",
       " 'is',\n",
       " 'lambda',\n",
       " 'nonlocal',\n",
       " 'not',\n",
       " 'or',\n",
       " 'pass',\n",
       " 'raise',\n",
       " 'return',\n",
       " 'try',\n",
       " 'while',\n",
       " 'with',\n",
       " 'yield']"
      ]
     },
     "execution_count": 6,
     "metadata": {},
     "output_type": "execute_result"
    }
   ],
   "source": [
    "import keyword\n",
    "keyword.kwlist"
   ]
  },
  {
   "cell_type": "code",
   "execution_count": 7,
   "id": "f601468b-20bd-4e9e-bbb6-614d2fb42b65",
   "metadata": {},
   "outputs": [
    {
     "data": {
      "text/plain": [
       "(10+20j)"
      ]
     },
     "execution_count": 7,
     "metadata": {},
     "output_type": "execute_result"
    }
   ],
   "source": [
    "c1 = 10 + 20j\n",
    "c1"
   ]
  },
  {
   "cell_type": "code",
   "execution_count": 8,
   "id": "c673ee36-e91e-40f3-b335-41ab1c57f1cd",
   "metadata": {},
   "outputs": [
    {
     "name": "stdout",
     "output_type": "stream",
     "text": [
      "<class 'complex'>\n"
     ]
    }
   ],
   "source": [
    "print(type(c1))"
   ]
  },
  {
   "cell_type": "code",
   "execution_count": 9,
   "id": "96642aa9-4c67-4511-ba17-0a0d9c2e970b",
   "metadata": {},
   "outputs": [
    {
     "data": {
      "text/plain": [
       "12"
      ]
     },
     "execution_count": 9,
     "metadata": {},
     "output_type": "execute_result"
    }
   ],
   "source": [
    "v1 = 12\n",
    "v1"
   ]
  },
  {
   "cell_type": "code",
   "execution_count": 10,
   "id": "c835c5be-6b0c-4305-9264-431726c83fac",
   "metadata": {},
   "outputs": [
    {
     "data": {
      "text/plain": [
       "int"
      ]
     },
     "execution_count": 10,
     "metadata": {},
     "output_type": "execute_result"
    }
   ],
   "source": [
    "type(v1)"
   ]
  },
  {
   "cell_type": "code",
   "execution_count": 11,
   "id": "b63841cb-f2ab-4a69-aee1-658d7137e024",
   "metadata": {},
   "outputs": [
    {
     "data": {
      "text/plain": [
       "10.0"
      ]
     },
     "execution_count": 11,
     "metadata": {},
     "output_type": "execute_result"
    }
   ],
   "source": [
    "c1.real"
   ]
  },
  {
   "cell_type": "code",
   "execution_count": 12,
   "id": "c552501e-c57a-45be-9a29-20cd8c3ac245",
   "metadata": {},
   "outputs": [
    {
     "data": {
      "text/plain": [
       "20.0"
      ]
     },
     "execution_count": 12,
     "metadata": {},
     "output_type": "execute_result"
    }
   ],
   "source": [
    "c1.imag"
   ]
  },
  {
   "cell_type": "code",
   "execution_count": 13,
   "id": "2425d745-6b96-4d84-92a2-738e426689cb",
   "metadata": {},
   "outputs": [],
   "source": [
    "c2= 20+ 30j"
   ]
  },
  {
   "cell_type": "code",
   "execution_count": 14,
   "id": "0f51f175-3300-4d26-99a0-7a0ca63401f7",
   "metadata": {},
   "outputs": [
    {
     "name": "stdout",
     "output_type": "stream",
     "text": [
      "(10+20j)\n",
      "(20+30j)\n"
     ]
    }
   ],
   "source": [
    "print(c1)\n",
    "print(c2)"
   ]
  },
  {
   "cell_type": "code",
   "execution_count": 15,
   "id": "5296f3ef-d328-4cf8-be92-0eed65c6e508",
   "metadata": {},
   "outputs": [
    {
     "data": {
      "text/plain": [
       "(30+50j)"
      ]
     },
     "execution_count": 15,
     "metadata": {},
     "output_type": "execute_result"
    }
   ],
   "source": [
    "c1 + c2"
   ]
  },
  {
   "cell_type": "code",
   "execution_count": 16,
   "id": "1e08c4d0-2a61-4c6f-930c-14060b85a82d",
   "metadata": {},
   "outputs": [
    {
     "data": {
      "text/plain": [
       "(-10-10j)"
      ]
     },
     "execution_count": 16,
     "metadata": {},
     "output_type": "execute_result"
    }
   ],
   "source": [
    "c1 - c2"
   ]
  },
  {
   "cell_type": "code",
   "execution_count": 17,
   "id": "61e05a61-6c77-422e-a6e3-91c4e255a450",
   "metadata": {},
   "outputs": [
    {
     "data": {
      "text/plain": [
       "(10+10j)"
      ]
     },
     "execution_count": 17,
     "metadata": {},
     "output_type": "execute_result"
    }
   ],
   "source": [
    "c2 - c1"
   ]
  },
  {
   "cell_type": "markdown",
   "id": "4e2e20cf-853f-463a-9231-eaed4eb5d1fd",
   "metadata": {},
   "source": [
    "#string slicing"
   ]
  },
  {
   "cell_type": "code",
   "execution_count": null,
   "id": "b05cfbbb-7ab0-491b-a0b8-4e48b9859c5a",
   "metadata": {},
   "outputs": [],
   "source": []
  },
  {
   "cell_type": "code",
   "execution_count": null,
   "id": "68b7c706-7208-45e7-9c38-b44e4edfea2a",
   "metadata": {},
   "outputs": [],
   "source": []
  },
  {
   "cell_type": "code",
   "execution_count": null,
   "id": "c25f1961-ff8c-4ddb-abe8-a4aa97ccf4ca",
   "metadata": {},
   "outputs": [],
   "source": []
  },
  {
   "cell_type": "code",
   "execution_count": null,
   "id": "e213486d-bdf4-4f7f-a6bf-511b1ab41549",
   "metadata": {},
   "outputs": [],
   "source": []
  },
  {
   "cell_type": "code",
   "execution_count": null,
   "id": "9a597267-e074-4b60-9e56-9f5649fe07bf",
   "metadata": {},
   "outputs": [],
   "source": []
  },
  {
   "cell_type": "code",
   "execution_count": null,
   "id": "f3b083fb-2a15-45c8-a3d2-8f08c8030130",
   "metadata": {},
   "outputs": [],
   "source": []
  },
  {
   "cell_type": "code",
   "execution_count": null,
   "id": "884ae3f3-e601-40a4-af97-583c2ded5141",
   "metadata": {},
   "outputs": [],
   "source": []
  },
  {
   "cell_type": "code",
   "execution_count": null,
   "id": "9a635924-2195-48e2-9383-1576b9cf6679",
   "metadata": {},
   "outputs": [],
   "source": []
  },
  {
   "cell_type": "code",
   "execution_count": null,
   "id": "712ca0dc-7034-4d0a-a0fa-1150f4e95699",
   "metadata": {},
   "outputs": [],
   "source": []
  },
  {
   "cell_type": "code",
   "execution_count": null,
   "id": "89a7b3f9-1336-40c5-8da9-32a27b2b1e10",
   "metadata": {},
   "outputs": [],
   "source": []
  },
  {
   "cell_type": "code",
   "execution_count": null,
   "id": "7ffac716-92d8-4d1d-9557-cdf178860086",
   "metadata": {},
   "outputs": [],
   "source": []
  },
  {
   "cell_type": "code",
   "execution_count": null,
   "id": "ad5c14de-90f4-48cc-856b-83c8038f5173",
   "metadata": {},
   "outputs": [],
   "source": []
  }
 ],
 "metadata": {
  "kernelspec": {
   "display_name": "Python 3 (ipykernel)",
   "language": "python",
   "name": "python3"
  },
  "language_info": {
   "codemirror_mode": {
    "name": "ipython",
    "version": 3
   },
   "file_extension": ".py",
   "mimetype": "text/x-python",
   "name": "python",
   "nbconvert_exporter": "python",
   "pygments_lexer": "ipython3",
   "version": "3.12.7"
  }
 },
 "nbformat": 4,
 "nbformat_minor": 5
}
