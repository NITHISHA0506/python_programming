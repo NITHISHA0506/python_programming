{
 "cells": [
  {
   "cell_type": "markdown",
   "id": "77487679-3e7f-40bf-bc03-5eb356a69030",
   "metadata": {},
   "source": [
    "#Python Variables"
   ]
  },
  {
   "cell_type": "code",
   "execution_count": 12,
   "id": "8ebe5696-e817-46cf-a9cd-382d62790c7f",
   "metadata": {},
   "outputs": [
    {
     "name": "stdout",
     "output_type": "stream",
     "text": [
      "25\n"
     ]
    }
   ],
   "source": [
    "Age= 25\n",
    "print(Age) #int"
   ]
  },
  {
   "cell_type": "code",
   "execution_count": 13,
   "id": "3cf2ca85-dabc-4ba5-bb02-900a63e76573",
   "metadata": {},
   "outputs": [
    {
     "name": "stdout",
     "output_type": "stream",
     "text": [
      "Alice\n"
     ]
    }
   ],
   "source": [
    "name=\"Alice\"\n",
    "print(name) #string"
   ]
  },
  {
   "cell_type": "code",
   "execution_count": 4,
   "id": "6c613ba6-338d-41fd-aeb6-e01ff5c66c55",
   "metadata": {},
   "outputs": [
    {
     "name": "stdout",
     "output_type": "stream",
     "text": [
      "10.8\n"
     ]
    }
   ],
   "source": [
    "price=10.8\n",
    "print(price) #float"
   ]
  },
  {
   "cell_type": "code",
   "execution_count": 5,
   "id": "b03dcdee-9225-4f3d-af53-c42108406eaa",
   "metadata": {},
   "outputs": [
    {
     "name": "stdout",
     "output_type": "stream",
     "text": [
      "True\n"
     ]
    }
   ],
   "source": [
    "is_active= True\n",
    "print(is_active) #boolean "
   ]
  },
  {
   "cell_type": "markdown",
   "id": "8e57fa8c-9dbf-4c4b-8a13-8e96080cb886",
   "metadata": {},
   "source": [
    "Using Variables in Expressions"
   ]
  },
  {
   "cell_type": "code",
   "execution_count": 9,
   "id": "ae14aeda-c154-4a98-92ee-f92269a62d0c",
   "metadata": {},
   "outputs": [
    {
     "name": "stdout",
     "output_type": "stream",
     "text": [
      "9\n"
     ]
    }
   ],
   "source": [
    "a=5\n",
    "b=4\n",
    "c=a+b #sum\n",
    "print(c)"
   ]
  },
  {
   "cell_type": "markdown",
   "id": "d3f2b3e8-ea6f-4a78-b54d-781f8d42cf13",
   "metadata": {},
   "source": [
    "Changing Values of a variable"
   ]
  },
  {
   "cell_type": "code",
   "execution_count": 10,
   "id": "0d1a0863-c6a2-4f96-b838-b127c7f7156e",
   "metadata": {},
   "outputs": [
    {
     "name": "stdout",
     "output_type": "stream",
     "text": [
      "50\n",
      "100\n"
     ]
    }
   ],
   "source": [
    "score =50\n",
    "print(score)\n",
    "\n",
    "score = 100\n",
    "print(score)\n"
   ]
  },
  {
   "cell_type": "code",
   "execution_count": 11,
   "id": "bf89d8f6-9308-4d6d-9e4f-9e7eca9de897",
   "metadata": {},
   "outputs": [
    {
     "name": "stdout",
     "output_type": "stream",
     "text": [
      "100\n"
     ]
    }
   ],
   "source": [
    "print(score)"
   ]
  },
  {
   "cell_type": "markdown",
   "id": "4f2efaa8-43ca-485b-a71a-33636eb24d87",
   "metadata": {},
   "source": [
    "Concatenating Strings"
   ]
  },
  {
   "cell_type": "code",
   "execution_count": 13,
   "id": "be1155ee-2887-4289-b17e-ccefc55b2768",
   "metadata": {},
   "outputs": [
    {
     "name": "stdout",
     "output_type": "stream",
     "text": [
      "john Doe\n"
     ]
    }
   ],
   "source": [
    "first_name=\"john\"\n",
    "last_name=\"Doe\"\n",
    "full_name=first_name+\" \"+last_name\n",
    "print(full_name)"
   ]
  },
  {
   "cell_type": "markdown",
   "id": "e575b30d-db72-4ad6-9f94-114e38c8be10",
   "metadata": {},
   "source": [
    "Using Variables in a calculation"
   ]
  },
  {
   "cell_type": "code",
   "execution_count": 1,
   "id": "7217b8e6-6300-4897-870a-83c739ea9e88",
   "metadata": {},
   "outputs": [
    {
     "name": "stdout",
     "output_type": "stream",
     "text": [
      "150\n"
     ]
    }
   ],
   "source": [
    "#Area of Rectangle\n",
    "length = 30\n",
    "width = 5\n",
    "area = length *width\n",
    "print(area)"
   ]
  },
  {
   "cell_type": "code",
   "execution_count": 3,
   "id": "e351ab31-41f9-4e65-880a-7e7e09802271",
   "metadata": {},
   "outputs": [
    {
     "name": "stdout",
     "output_type": "stream",
     "text": [
      "3.0\n",
      "4.0\n"
     ]
    }
   ],
   "source": [
    "#Complex Datatype\n",
    "z = 3+4J\n",
    "print(z.real)\n",
    "print(z.imag)"
   ]
  },
  {
   "cell_type": "code",
   "execution_count": 4,
   "id": "41a7d5b0-eba2-4159-81a5-470469f7f7ad",
   "metadata": {},
   "outputs": [
    {
     "name": "stdout",
     "output_type": "stream",
     "text": [
      "(4+6j)\n",
      "(2+2j)\n",
      "(-5+10j)\n",
      "(2.2-0.4j)\n"
     ]
    }
   ],
   "source": [
    "a = 3+ 4j\n",
    "b = 1 + 2j\n",
    "\n",
    "#Addition \n",
    "print(a+b)\n",
    "\n",
    "#substraction\n",
    "print(a-b)\n",
    "\n",
    "#multiplication\n",
    "print(a*b)\n",
    "\n",
    "#Dicision\n",
    "print(a/b)"
   ]
  },
  {
   "cell_type": "code",
   "execution_count": 14,
   "id": "0aa01227-757a-4f59-ba37-f0040d393e26",
   "metadata": {},
   "outputs": [
    {
     "name": "stdout",
     "output_type": "stream",
     "text": [
      "5.0\n"
     ]
    }
   ],
   "source": [
    "z = 3 +4j\n",
    "print(abs(z))"
   ]
  },
  {
   "cell_type": "code",
   "execution_count": 15,
   "id": "aec0c3c3-9040-4d9b-9f18-cb595306095c",
   "metadata": {},
   "outputs": [
    {
     "name": "stdout",
     "output_type": "stream",
     "text": [
      "0.7853981633974483\n",
      "(1.4142135623730951, 0.7853981633974483)\n",
      "(1.09868411346781+0.45508986056222733j)\n"
     ]
    }
   ],
   "source": [
    "import cmath\n",
    "\n",
    "z= 1+ 1j\n",
    "\n",
    "print(cmath.phase(z))\n",
    "print(cmath.polar(z))\n",
    "print(cmath.sqrt(z))\n",
    "\n"
   ]
  },
  {
   "cell_type": "code",
   "execution_count": null,
   "id": "bd655c95-b0cf-461e-8e8a-f5ba172d0e14",
   "metadata": {},
   "outputs": [],
   "source": []
  },
  {
   "cell_type": "code",
   "execution_count": null,
   "id": "08dd1b96-bce6-4fef-85d0-fa6ef54c4ce5",
   "metadata": {},
   "outputs": [],
   "source": []
  },
  {
   "cell_type": "code",
   "execution_count": null,
   "id": "034f474d-954c-4fc3-9b36-915d8b981fee",
   "metadata": {},
   "outputs": [],
   "source": []
  },
  {
   "cell_type": "code",
   "execution_count": null,
   "id": "343678f2-41f8-4c47-9004-2bc44efffc00",
   "metadata": {},
   "outputs": [],
   "source": []
  },
  {
   "cell_type": "code",
   "execution_count": null,
   "id": "d3ac91a3-4207-4959-abfa-f0eb5defbb78",
   "metadata": {},
   "outputs": [],
   "source": []
  }
 ],
 "metadata": {
  "kernelspec": {
   "display_name": "Python 3 (ipykernel)",
   "language": "python",
   "name": "python3"
  },
  "language_info": {
   "codemirror_mode": {
    "name": "ipython",
    "version": 3
   },
   "file_extension": ".py",
   "mimetype": "text/x-python",
   "name": "python",
   "nbconvert_exporter": "python",
   "pygments_lexer": "ipython3",
   "version": "3.12.7"
  }
 },
 "nbformat": 4,
 "nbformat_minor": 5
}
